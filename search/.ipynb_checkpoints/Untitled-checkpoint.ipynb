{
 "cells": [
  {
   "cell_type": "code",
   "execution_count": 10,
   "id": "matched-debut",
   "metadata": {},
   "outputs": [
    {
     "name": "stdout",
     "output_type": "stream",
     "text": [
      "{'яндекс': {0, 90, 42, 12, 13, 45, 48, 51, 84, 23, 88, 26, 60, 62}, 'почта': {0, 1, 66, 3, 98, 99, 7, 9, 77, 78, 19, 24}}\n",
      "result: {0}\n"
     ]
    }
   ],
   "source": [
    "import pymorphy2\n",
    "import numpy as np\n",
    "morph = pymorphy2.MorphAnalyzer()\n",
    "\n",
    "indexes=open('C:/Users/oleji/Desktop/topkek/search/indexes.txt','w')\n",
    "\n",
    "def createIndex():\n",
    "    woordIndex={}\n",
    "    for i in range (0,100):\n",
    "        with open('C:/Users/oleji/Desktop/topkek/search/выкачка/выкачка'+str(i)+'.txt', encoding='utf-8') as file:\n",
    "            k=[row.strip().split() for row in file]\n",
    "            lowSt=[]\n",
    "            for l in range(0,len(k[0])):\n",
    "                lowSt.append(k[0][l].lower())\n",
    "            for l in lowSt:\n",
    "                if woordIndex.get(l) is None:\n",
    "                    woordIndex[l]=[i]\n",
    "                if(i not in woordIndex[l]):\n",
    "                    woordIndex[l].append(i)\n",
    "                    \n",
    "    for k,v in woordIndex.items():\n",
    "        indexes.write(k)\n",
    "        indexes.write(' ')\n",
    "        for ind in v:\n",
    "            indexes.write(str(ind))\n",
    "            indexes.write(' ')\n",
    "        indexes.write('\\n')\n",
    "    indexes.close()\n",
    "    \n",
    "    \n",
    "def boolSearch(string):\n",
    "\n",
    "    wordIndex={}\n",
    "\n",
    "    intersection={}\n",
    "    \n",
    "    for i in range (0,100):\n",
    "        with open('C:/Users/oleji/Desktop/topkek/search/выкачка/выкачка'+str(i)+'.txt', encoding='utf-8') as file:\n",
    "            k=[row.strip().split() for row in file]\n",
    "            lowSt=[]\n",
    "            for l in range(0,len(k[0])):\n",
    "                lowSt.append(k[0][l].lower())\n",
    "            for splitWord in string.split():\n",
    "                sset=set()\n",
    "                for low in lowSt:\n",
    "                    if splitWord in lowSt:\n",
    "                        if wordIndex.get(splitWord) is None:\n",
    "                            sset.add(i)\n",
    "                            wordIndex[splitWord]=sset\n",
    "                        else:\n",
    "                            wordIndex[splitWord].add(i)\n",
    "                            \n",
    "    intersection=wordIndex[string.split()[0]]\n",
    "    print(wordIndex)\n",
    "    \n",
    "    for k,v in wordIndex.items():\n",
    "        if(k!=string.split()[0]):\n",
    "#             print(v)\n",
    "            intersection=intersection&v\n",
    "        \n",
    "    print('result: '+str(intersection))\n",
    "\n",
    "createIndex()\n",
    "    \n",
    "boolSearch('яндекс почта')"
   ]
  },
  {
   "cell_type": "code",
   "execution_count": null,
   "id": "undefined-precipitation",
   "metadata": {},
   "outputs": [],
   "source": []
  }
 ],
 "metadata": {
  "kernelspec": {
   "display_name": "Python 3",
   "language": "python",
   "name": "python3"
  },
  "language_info": {
   "codemirror_mode": {
    "name": "ipython",
    "version": 3
   },
   "file_extension": ".py",
   "mimetype": "text/x-python",
   "name": "python",
   "nbconvert_exporter": "python",
   "pygments_lexer": "ipython3",
   "version": "3.9.2"
  }
 },
 "nbformat": 4,
 "nbformat_minor": 5
}
