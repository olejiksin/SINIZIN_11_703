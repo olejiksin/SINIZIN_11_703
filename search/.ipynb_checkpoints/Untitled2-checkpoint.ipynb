{
 "cells": [
  {
   "cell_type": "code",
   "execution_count": 13,
   "id": "diverse-baltimore",
   "metadata": {},
   "outputs": [
    {
     "name": "stdout",
     "output_type": "stream",
     "text": [
      "Counter({'aasta': 0.14285714285714285, 'la': [0.42857142857142855, 1], 'vista': 0.2857142857142857, 'baby': 0.14285714285714285})\n"
     ]
    }
   ],
   "source": [
    "import collections\n",
    "\n",
    "def compute_tf(text):\n",
    "    tf_text = collections.Counter(text)\n",
    "    for i in tf_text:\n",
    "        tf_text[i] = tf_text[i]/float(len(text))\n",
    "    return tf_text\n",
    "\n",
    "text = ['aasta', 'la', 'vista', 'baby', 'la', 'vista', 'la']\n",
    "\n",
    "tf_TfidfSet=set{}\n",
    "\n",
    "for i in range (0,100):\n",
    "    listt=list()\n",
    "    with open('C:/Users/oleji/Desktop/выкачка/выкачка'+str(i)+'.txt', encoding='utf-8') as file:\n",
    "        k=[row.strip().split() for row in file]\n",
    "        for l in range(0,k[0]):\n",
    "            listt.append(k[0][l].lower())\n",
    "        compute_tf(listt)\n",
    "        \n",
    "k=compute_tf(text)\n",
    "k['la']=[k['la'],1]\n"
   ]
  }
 ],
 "metadata": {
  "kernelspec": {
   "display_name": "Python 3",
   "language": "python",
   "name": "python3"
  },
  "language_info": {
   "codemirror_mode": {
    "name": "ipython",
    "version": 3
   },
   "file_extension": ".py",
   "mimetype": "text/x-python",
   "name": "python",
   "nbconvert_exporter": "python",
   "pygments_lexer": "ipython3",
   "version": "3.9.2"
  }
 },
 "nbformat": 4,
 "nbformat_minor": 5
}
