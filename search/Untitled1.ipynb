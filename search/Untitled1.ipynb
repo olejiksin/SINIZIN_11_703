{
 "cells": [
  {
   "cell_type": "code",
   "execution_count": 1,
   "id": "stopped-technology",
   "metadata": {},
   "outputs": [],
   "source": [
    "import pymorphy2\n",
    "import numpy as np\n",
    "morph = pymorphy2.MorphAnalyzer()\n",
    "\n",
    "\n",
    "tokensAndLemmas=open('C:/Users/oleji/Desktop/topkek/search/tokensAndLemmas.txt','w')\n",
    "lemmas=open('C:/Users/oleji/Desktop/topkek/search/lemmas.txt','w')\n",
    "\n",
    "\n",
    "lemmasSet=set()\n",
    "tokensSet=set()\n",
    "\n",
    "tokenLemma={}\n",
    "\n",
    "\n",
    "for i in range (0,100):\n",
    "    with open('C:/Users/oleji/Desktop/выкачка/выкачка'+str(i)+'.txt', encoding='utf-8') as file:\n",
    "        k=[row.strip().split() for row in file]\n",
    "        for l in range(0,len(k[0])):\n",
    "            word=k[0][l].lower()\n",
    "            tokensSet.add(word)\n",
    "            normWord=morph.parse(word)[0].normal_form\n",
    "            if(morph.parse(word)[0].tag.POS != ('CONJ' or 'PREP' or 'PRCL' or 'INTJ' or 'ADVB' or 'ADVB' or 'PRED')) and (word != ('еще' or 'ещё')):\n",
    "                lemmasSet.add(normWord)   \n",
    "                if tokenLemma.get(normWord) is None:\n",
    "                    tokenLemma[normWord]=[word]\n",
    "                if(word not in tokenLemma[normWord]):\n",
    "                    tokenLemma[normWord].append(word)\n",
    "                    \n",
    "                    \n",
    "for k, v in tokenLemma.items():\n",
    "    lemmas.write(k)\n",
    "    lemmas.write('\\n')\n",
    "    tokensAndLemmas.write(k)\n",
    "    for a in v:\n",
    "        tokensAndLemmas.write(' '+a)\n",
    "    tokensAndLemmas.write('\\n')\n",
    "\n",
    "    \n",
    "tokensAndLemmas.close()\n",
    "lemmas.close()"
   ]
  },
  {
   "cell_type": "code",
   "execution_count": null,
   "id": "proved-therapist",
   "metadata": {},
   "outputs": [],
   "source": []
  }
 ],
 "metadata": {
  "kernelspec": {
   "display_name": "Python 3",
   "language": "python",
   "name": "python3"
  },
  "language_info": {
   "codemirror_mode": {
    "name": "ipython",
    "version": 3
   },
   "file_extension": ".py",
   "mimetype": "text/x-python",
   "name": "python",
   "nbconvert_exporter": "python",
   "pygments_lexer": "ipython3",
   "version": "3.9.2"
  }
 },
 "nbformat": 4,
 "nbformat_minor": 5
}
