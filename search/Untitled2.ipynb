{
 "cells": [
  {
   "cell_type": "code",
   "execution_count": 24,
   "id": "diverse-baltimore",
   "metadata": {},
   "outputs": [],
   "source": [
    "import collections\n",
    "\n",
    "import math\n",
    "\n",
    "tf_tfidf=open('C:/Users/oleji/Desktop/topkek/search/tf_tfidf.txt','w')\n",
    "\n",
    "def compute_idf(word, text):\n",
    "        return math.log10(len(text)/sum([1.0 for i in text if word in i]))\n",
    "\n",
    "def compute_tf(text):\n",
    "    tf_text = collections.Counter(text)\n",
    "    for i in tf_text:\n",
    "        tf_text[i] = tf_text[i]/float(len(text))\n",
    "    return tf_text\n",
    "\n",
    "text = ['aasta', 'la', 'vista', 'baby', 'la', 'vista', 'la']\n",
    "\n",
    "tf_TfidfSet={}\n",
    "\n",
    "megaList=list()\n",
    "\n",
    "for i in range (0,100):\n",
    "    listt=list()\n",
    "    with open('C:/Users/oleji/Desktop/topkek/search/выкачка/выкачка'+str(i)+'.txt', encoding='utf-8') as file:\n",
    "        k=[row.strip().split() for row in file]\n",
    "        for l in range(0,len(k[0])):\n",
    "            listt.append(k[0][l].lower())\n",
    "        megaList.append(listt)\n",
    "        for word,tf in compute_tf(listt).items():\n",
    "            if tf_TfidfSet.get(word) is None:\n",
    "                tf_TfidfSet[word]=[[tf]]\n",
    "            else:\n",
    "                tf_TfidfSet[word][0].append(tf)\n",
    "\n",
    "for k,v in tf_TfidfSet.items():\n",
    "    string=k\n",
    "    tf_idfSum=0\n",
    "    idf=compute_idf(k,megaList)\n",
    "    string+=' '+str(idf)\n",
    "    for tf in v[0]:\n",
    "        tf_idfSum+=tf*idf\n",
    "    string+=' '+str(tf_idfSum)\n",
    "    tf_tfidf.write(string)\n",
    "    tf_tfidf.write('\\n')\n",
    "\n",
    "tf_tfidf.close()\n"
   ]
  },
  {
   "cell_type": "code",
   "execution_count": null,
   "id": "stunning-underground",
   "metadata": {},
   "outputs": [],
   "source": []
  }
 ],
 "metadata": {
  "kernelspec": {
   "display_name": "Python 3",
   "language": "python",
   "name": "python3"
  },
  "language_info": {
   "codemirror_mode": {
    "name": "ipython",
    "version": 3
   },
   "file_extension": ".py",
   "mimetype": "text/x-python",
   "name": "python",
   "nbconvert_exporter": "python",
   "pygments_lexer": "ipython3",
   "version": "3.9.2"
  }
 },
 "nbformat": 4,
 "nbformat_minor": 5
}
